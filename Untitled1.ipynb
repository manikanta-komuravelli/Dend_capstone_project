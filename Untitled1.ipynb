{
 "cells": [
  {
   "cell_type": "code",
   "execution_count": 111,
   "metadata": {
    "editable": true
   },
   "outputs": [],
   "source": [
    "import pandas as pd\n",
    "import time\n",
    "from datetime import datetime\n",
    "from pyspark.sql.types import StructType,StructField, StringType, IntegerType, LongType, DoubleType, FloatType\n",
    "from pyspark.sql.functions import lit, udf, col, to_timestamp, to_date, desc, monotonically_increasing_id\n",
    "import glob"
   ]
  },
  {
   "cell_type": "code",
   "execution_count": 2,
   "metadata": {
    "editable": true
   },
   "outputs": [],
   "source": [
    "from pyspark.sql import SparkSession\n",
    "spark = SparkSession.builder.\\\n",
    "config(\"spark.jars.packages\",\"saurfang:spark-sas7bdat:2.0.0-s_2.11\")\\\n",
    ".enableHiveSupport().getOrCreate()"
   ]
  },
  {
   "cell_type": "code",
   "execution_count": 3,
   "metadata": {
    "editable": true
   },
   "outputs": [],
   "source": [
    "my_schema= StructType([ StructField(\"created_at\", StringType(), True)\\\n",
    "                       ,StructField(\"tweet_id\", DoubleType(), False)\\\n",
    "                       ,StructField(\"tweet\", StringType(), True)\\\n",
    "                       ,StructField(\"likes\", FloatType(), True)\\\n",
    "                       ,StructField(\"retweet_count\", FloatType(), True)\\\n",
    "                       ,StructField(\"source\", StringType(), True)\\\n",
    "                       ,StructField(\"user_id\", DoubleType(), True)\\\n",
    "                       ,StructField(\"user_name\", StringType(), True)\\\n",
    "                       ,StructField(\"user_screen_name\", StringType(), True)\\\n",
    "                       ,StructField(\"user_description\", StringType(), True)\\\n",
    "                       ,StructField(\"user_join_date\", StringType(), True)\\\n",
    "                       ,StructField(\"user_followers_count\", DoubleType(), True)\\\n",
    "                       ,StructField(\"user_location\", StringType(), True)\\\n",
    "                       ,StructField(\"lat\", FloatType(), True)\\\n",
    "                       ,StructField(\"long\", FloatType(), True)\\\n",
    "                       ,StructField(\"city\", StringType(), True)\\\n",
    "                       ,StructField(\"country\", StringType(), True)\\\n",
    "                       ,StructField(\"continent\", StringType(), True)\\\n",
    "                       ,StructField(\"state\", StringType(), True)\\\n",
    "                       ,StructField(\"state_code\", StringType(), True)\\\n",
    "                      ])"
   ]
  },
  {
   "cell_type": "code",
   "execution_count": 4,
   "metadata": {
    "editable": true
   },
   "outputs": [],
   "source": [
    "file_path_trump= 'Twitter_Data/hashtag_donaldtrump.csv'\n",
    "df_trump= spark.read.format(\"csv\").option(\"header\", True).option('delimiter', \",\").schema(my_schema).option('multiLine', True).load(file_path_trump)"
   ]
  },
  {
   "cell_type": "code",
   "execution_count": 5,
   "metadata": {
    "editable": true
   },
   "outputs": [
    {
     "name": "stdout",
     "output_type": "stream",
     "text": [
      "root\n",
      " |-- created_at: string (nullable = true)\n",
      " |-- tweet_id: double (nullable = true)\n",
      " |-- tweet: string (nullable = true)\n",
      " |-- likes: float (nullable = true)\n",
      " |-- retweet_count: float (nullable = true)\n",
      " |-- source: string (nullable = true)\n",
      " |-- user_id: double (nullable = true)\n",
      " |-- user_name: string (nullable = true)\n",
      " |-- user_screen_name: string (nullable = true)\n",
      " |-- user_description: string (nullable = true)\n",
      " |-- user_join_date: string (nullable = true)\n",
      " |-- user_followers_count: double (nullable = true)\n",
      " |-- user_location: string (nullable = true)\n",
      " |-- lat: float (nullable = true)\n",
      " |-- long: float (nullable = true)\n",
      " |-- city: string (nullable = true)\n",
      " |-- country: string (nullable = true)\n",
      " |-- continent: string (nullable = true)\n",
      " |-- state: string (nullable = true)\n",
      " |-- state_code: string (nullable = true)\n",
      " |-- hashtag_type: string (nullable = false)\n",
      "\n"
     ]
    }
   ],
   "source": [
    "df_trump= df_trump.withColumn(\"hashtag_type\",lit(\"Trump\"))\n",
    "df_trump.printSchema()"
   ]
  },
  {
   "cell_type": "code",
   "execution_count": 8,
   "metadata": {
    "editable": true
   },
   "outputs": [],
   "source": [
    "df_trump= df_trump.na.drop(subset=['tweet_id','user_id'])"
   ]
  },
  {
   "cell_type": "code",
   "execution_count": 11,
   "metadata": {
    "editable": true
   },
   "outputs": [
    {
     "data": {
      "text/plain": [
       "931760"
      ]
     },
     "execution_count": 11,
     "metadata": {},
     "output_type": "execute_result"
    }
   ],
   "source": [
    "df_trump.count()\n",
    "df_trump.limit(10).toPandas()"
   ]
  },
  {
   "cell_type": "code",
   "execution_count": 12,
   "metadata": {
    "editable": true
   },
   "outputs": [],
   "source": [
    "file_path_biden= 'Twitter_Data/hashtag_joebiden.csv'\n",
    "df_biden= spark.read.format(\"csv\").option(\"header\", True).option('delimiter', \",\").schema(my_schema).option('multiLine', True).load(file_path_biden)"
   ]
  },
  {
   "cell_type": "code",
   "execution_count": 13,
   "metadata": {
    "editable": true
   },
   "outputs": [
    {
     "name": "stdout",
     "output_type": "stream",
     "text": [
      "root\n",
      " |-- created_at: string (nullable = true)\n",
      " |-- tweet_id: double (nullable = true)\n",
      " |-- tweet: string (nullable = true)\n",
      " |-- likes: float (nullable = true)\n",
      " |-- retweet_count: float (nullable = true)\n",
      " |-- source: string (nullable = true)\n",
      " |-- user_id: double (nullable = true)\n",
      " |-- user_name: string (nullable = true)\n",
      " |-- user_screen_name: string (nullable = true)\n",
      " |-- user_description: string (nullable = true)\n",
      " |-- user_join_date: string (nullable = true)\n",
      " |-- user_followers_count: double (nullable = true)\n",
      " |-- user_location: string (nullable = true)\n",
      " |-- lat: float (nullable = true)\n",
      " |-- long: float (nullable = true)\n",
      " |-- city: string (nullable = true)\n",
      " |-- country: string (nullable = true)\n",
      " |-- continent: string (nullable = true)\n",
      " |-- state: string (nullable = true)\n",
      " |-- state_code: string (nullable = true)\n",
      " |-- hashtag_type: string (nullable = false)\n",
      "\n"
     ]
    }
   ],
   "source": [
    "df_biden= df_biden.withColumn(\"hashtag_type\",lit(\"Biden\"))\n",
    "df_biden.printSchema()"
   ]
  },
  {
   "cell_type": "code",
   "execution_count": 14,
   "metadata": {
    "editable": true
   },
   "outputs": [],
   "source": [
    "df_biden= df_biden.na.drop(subset=['tweet_id','user_id'])"
   ]
  },
  {
   "cell_type": "code",
   "execution_count": 15,
   "metadata": {
    "editable": true
   },
   "outputs": [
    {
     "data": {
      "text/plain": [
       "750980"
      ]
     },
     "execution_count": 15,
     "metadata": {},
     "output_type": "execute_result"
    }
   ],
   "source": [
    "df_biden.count()"
   ]
  },
  {
   "cell_type": "code",
   "execution_count": 16,
   "metadata": {
    "editable": true
   },
   "outputs": [
    {
     "data": {
      "text/html": [
       "<div>\n",
       "<style scoped>\n",
       "    .dataframe tbody tr th:only-of-type {\n",
       "        vertical-align: middle;\n",
       "    }\n",
       "\n",
       "    .dataframe tbody tr th {\n",
       "        vertical-align: top;\n",
       "    }\n",
       "\n",
       "    .dataframe thead th {\n",
       "        text-align: right;\n",
       "    }\n",
       "</style>\n",
       "<table border=\"1\" class=\"dataframe\">\n",
       "  <thead>\n",
       "    <tr style=\"text-align: right;\">\n",
       "      <th></th>\n",
       "      <th>created_at</th>\n",
       "      <th>tweet_id</th>\n",
       "      <th>tweet</th>\n",
       "      <th>likes</th>\n",
       "      <th>retweet_count</th>\n",
       "      <th>source</th>\n",
       "      <th>user_id</th>\n",
       "      <th>user_name</th>\n",
       "      <th>user_screen_name</th>\n",
       "      <th>user_description</th>\n",
       "      <th>...</th>\n",
       "      <th>user_followers_count</th>\n",
       "      <th>user_location</th>\n",
       "      <th>lat</th>\n",
       "      <th>long</th>\n",
       "      <th>city</th>\n",
       "      <th>country</th>\n",
       "      <th>continent</th>\n",
       "      <th>state</th>\n",
       "      <th>state_code</th>\n",
       "      <th>hashtag_type</th>\n",
       "    </tr>\n",
       "  </thead>\n",
       "  <tbody>\n",
       "    <tr>\n",
       "      <th>0</th>\n",
       "      <td>2020-10-15 00:00:01</td>\n",
       "      <td>1.316529e+18</td>\n",
       "      <td>#Elecciones2020 | En #Florida: #JoeBiden dice ...</td>\n",
       "      <td>0.0</td>\n",
       "      <td>0.0</td>\n",
       "      <td>TweetDeck</td>\n",
       "      <td>3.606665e+08</td>\n",
       "      <td>El Sol Latino News</td>\n",
       "      <td>elsollatinonews</td>\n",
       "      <td>🌐 Noticias de interés para latinos de la costa...</td>\n",
       "      <td>...</td>\n",
       "      <td>1860.0</td>\n",
       "      <td>Philadelphia, PA / Miami, FL</td>\n",
       "      <td>25.774269</td>\n",
       "      <td>-80.193657</td>\n",
       "      <td>None</td>\n",
       "      <td>United States of America</td>\n",
       "      <td>North America</td>\n",
       "      <td>Florida</td>\n",
       "      <td>FL</td>\n",
       "      <td>Biden</td>\n",
       "    </tr>\n",
       "    <tr>\n",
       "      <th>1</th>\n",
       "      <td>2020-10-15 00:00:18</td>\n",
       "      <td>1.316529e+18</td>\n",
       "      <td>#HunterBiden #HunterBidenEmails #JoeBiden #Joe...</td>\n",
       "      <td>0.0</td>\n",
       "      <td>0.0</td>\n",
       "      <td>Twitter for iPad</td>\n",
       "      <td>8.099044e+08</td>\n",
       "      <td>Cheri A. 🇺🇸</td>\n",
       "      <td>Biloximeemaw</td>\n",
       "      <td>Locked and loaded Meemaw. Love God, my family ...</td>\n",
       "      <td>...</td>\n",
       "      <td>6628.0</td>\n",
       "      <td>None</td>\n",
       "      <td>NaN</td>\n",
       "      <td>NaN</td>\n",
       "      <td>None</td>\n",
       "      <td>None</td>\n",
       "      <td>None</td>\n",
       "      <td>None</td>\n",
       "      <td>None</td>\n",
       "      <td>Biden</td>\n",
       "    </tr>\n",
       "    <tr>\n",
       "      <th>2</th>\n",
       "      <td>2020-10-15 00:00:20</td>\n",
       "      <td>1.316529e+18</td>\n",
       "      <td>@IslandGirlPRV @BradBeauregardJ @MeidasTouch T...</td>\n",
       "      <td>0.0</td>\n",
       "      <td>0.0</td>\n",
       "      <td>Twitter Web App</td>\n",
       "      <td>3.494182e+09</td>\n",
       "      <td>Flag Waver</td>\n",
       "      <td>Flag_Wavers</td>\n",
       "      <td>None</td>\n",
       "      <td>...</td>\n",
       "      <td>1536.0</td>\n",
       "      <td>Golden Valley Arizona</td>\n",
       "      <td>46.304035</td>\n",
       "      <td>-109.171432</td>\n",
       "      <td>None</td>\n",
       "      <td>United States of America</td>\n",
       "      <td>North America</td>\n",
       "      <td>Montana</td>\n",
       "      <td>MT</td>\n",
       "      <td>Biden</td>\n",
       "    </tr>\n",
       "    <tr>\n",
       "      <th>3</th>\n",
       "      <td>2020-10-15 00:00:21</td>\n",
       "      <td>1.316529e+18</td>\n",
       "      <td>@chrislongview Watching and setting dvr. Let’s...</td>\n",
       "      <td>0.0</td>\n",
       "      <td>0.0</td>\n",
       "      <td>Twitter for iPhone</td>\n",
       "      <td>8.242596e+17</td>\n",
       "      <td>Michelle Ferg</td>\n",
       "      <td>MichelleFerg4</td>\n",
       "      <td>None</td>\n",
       "      <td>...</td>\n",
       "      <td>27.0</td>\n",
       "      <td>None</td>\n",
       "      <td>NaN</td>\n",
       "      <td>NaN</td>\n",
       "      <td>None</td>\n",
       "      <td>None</td>\n",
       "      <td>None</td>\n",
       "      <td>None</td>\n",
       "      <td>None</td>\n",
       "      <td>Biden</td>\n",
       "    </tr>\n",
       "    <tr>\n",
       "      <th>4</th>\n",
       "      <td>2020-10-15 00:00:22</td>\n",
       "      <td>1.316529e+18</td>\n",
       "      <td>#censorship #HunterBiden #Biden #BidenEmails #...</td>\n",
       "      <td>1.0</td>\n",
       "      <td>0.0</td>\n",
       "      <td>Twitter Web App</td>\n",
       "      <td>1.032807e+18</td>\n",
       "      <td>the Gold State</td>\n",
       "      <td>theegoldstate</td>\n",
       "      <td>A Silicon Valley #independent #News #Media #St...</td>\n",
       "      <td>...</td>\n",
       "      <td>390.0</td>\n",
       "      <td>California, USA</td>\n",
       "      <td>36.701462</td>\n",
       "      <td>-118.755997</td>\n",
       "      <td>None</td>\n",
       "      <td>United States of America</td>\n",
       "      <td>North America</td>\n",
       "      <td>California</td>\n",
       "      <td>CA</td>\n",
       "      <td>Biden</td>\n",
       "    </tr>\n",
       "    <tr>\n",
       "      <th>5</th>\n",
       "      <td>2020-10-15 00:00:25</td>\n",
       "      <td>1.316529e+18</td>\n",
       "      <td>In 2020, #NYPost is being #censorship #CENSORE...</td>\n",
       "      <td>0.0</td>\n",
       "      <td>0.0</td>\n",
       "      <td>Twitter for iPhone</td>\n",
       "      <td>1.994033e+07</td>\n",
       "      <td>Change Illinois | Biden will increase taxes by...</td>\n",
       "      <td>changeillinois</td>\n",
       "      <td>Illinois, home of Lincoln and Reagan, used to ...</td>\n",
       "      <td>...</td>\n",
       "      <td>1397.0</td>\n",
       "      <td>Chicago, Illinois</td>\n",
       "      <td>41.875561</td>\n",
       "      <td>-87.624420</td>\n",
       "      <td>Chicago</td>\n",
       "      <td>United States of America</td>\n",
       "      <td>North America</td>\n",
       "      <td>Illinois</td>\n",
       "      <td>IL</td>\n",
       "      <td>Biden</td>\n",
       "    </tr>\n",
       "    <tr>\n",
       "      <th>6</th>\n",
       "      <td>2020-10-15 00:00:31</td>\n",
       "      <td>1.316529e+18</td>\n",
       "      <td>►► Tell Politicians to STICK IT with this FREE...</td>\n",
       "      <td>0.0</td>\n",
       "      <td>0.0</td>\n",
       "      <td>Freebie-Depot</td>\n",
       "      <td>1.030832e+08</td>\n",
       "      <td>🆓 Freebie Depot</td>\n",
       "      <td>FreebieDepot</td>\n",
       "      <td>Free Stuff - No Fluff!  Get all kinds of FREE ...</td>\n",
       "      <td>...</td>\n",
       "      <td>6402.0</td>\n",
       "      <td>USA - Land of the FREE!</td>\n",
       "      <td>NaN</td>\n",
       "      <td>NaN</td>\n",
       "      <td>None</td>\n",
       "      <td>None</td>\n",
       "      <td>None</td>\n",
       "      <td>None</td>\n",
       "      <td>None</td>\n",
       "      <td>Biden</td>\n",
       "    </tr>\n",
       "    <tr>\n",
       "      <th>7</th>\n",
       "      <td>2020-10-15 00:00:36</td>\n",
       "      <td>1.316529e+18</td>\n",
       "      <td>#Biden https://t.co/qMs0PmUev5</td>\n",
       "      <td>0.0</td>\n",
       "      <td>0.0</td>\n",
       "      <td>Twitter Web App</td>\n",
       "      <td>1.272568e+18</td>\n",
       "      <td>Kenneth</td>\n",
       "      <td>Kennethuteliv</td>\n",
       "      <td>None</td>\n",
       "      <td>...</td>\n",
       "      <td>103.0</td>\n",
       "      <td>None</td>\n",
       "      <td>NaN</td>\n",
       "      <td>NaN</td>\n",
       "      <td>None</td>\n",
       "      <td>None</td>\n",
       "      <td>None</td>\n",
       "      <td>None</td>\n",
       "      <td>None</td>\n",
       "      <td>Biden</td>\n",
       "    </tr>\n",
       "    <tr>\n",
       "      <th>8</th>\n",
       "      <td>2020-10-15 00:00:41</td>\n",
       "      <td>1.316529e+18</td>\n",
       "      <td>Proof  Bidens are crooked. Twitter will suspen...</td>\n",
       "      <td>1.0</td>\n",
       "      <td>1.0</td>\n",
       "      <td>Twitter for Android</td>\n",
       "      <td>1.275659e+18</td>\n",
       "      <td>Jake Rivendale</td>\n",
       "      <td>JakeRivendale</td>\n",
       "      <td>None</td>\n",
       "      <td>...</td>\n",
       "      <td>80.0</td>\n",
       "      <td>None</td>\n",
       "      <td>NaN</td>\n",
       "      <td>NaN</td>\n",
       "      <td>None</td>\n",
       "      <td>None</td>\n",
       "      <td>None</td>\n",
       "      <td>None</td>\n",
       "      <td>None</td>\n",
       "      <td>Biden</td>\n",
       "    </tr>\n",
       "    <tr>\n",
       "      <th>9</th>\n",
       "      <td>2020-10-15 00:00:44</td>\n",
       "      <td>1.316529e+18</td>\n",
       "      <td>Now Open! Create a FREE U.S. Election Pick'em ...</td>\n",
       "      <td>0.0</td>\n",
       "      <td>0.0</td>\n",
       "      <td>Hootsuite Inc.</td>\n",
       "      <td>2.193205e+07</td>\n",
       "      <td>OfficePools.com</td>\n",
       "      <td>officepools_com</td>\n",
       "      <td>Visit https://t.co/CdmWfqRMIS to play now! #fa...</td>\n",
       "      <td>...</td>\n",
       "      <td>967.0</td>\n",
       "      <td>None</td>\n",
       "      <td>NaN</td>\n",
       "      <td>NaN</td>\n",
       "      <td>None</td>\n",
       "      <td>None</td>\n",
       "      <td>None</td>\n",
       "      <td>None</td>\n",
       "      <td>None</td>\n",
       "      <td>Biden</td>\n",
       "    </tr>\n",
       "  </tbody>\n",
       "</table>\n",
       "<p>10 rows × 21 columns</p>\n",
       "</div>"
      ],
      "text/plain": [
       "            created_at      tweet_id  \\\n",
       "0  2020-10-15 00:00:01  1.316529e+18   \n",
       "1  2020-10-15 00:00:18  1.316529e+18   \n",
       "2  2020-10-15 00:00:20  1.316529e+18   \n",
       "3  2020-10-15 00:00:21  1.316529e+18   \n",
       "4  2020-10-15 00:00:22  1.316529e+18   \n",
       "5  2020-10-15 00:00:25  1.316529e+18   \n",
       "6  2020-10-15 00:00:31  1.316529e+18   \n",
       "7  2020-10-15 00:00:36  1.316529e+18   \n",
       "8  2020-10-15 00:00:41  1.316529e+18   \n",
       "9  2020-10-15 00:00:44  1.316529e+18   \n",
       "\n",
       "                                               tweet  likes  retweet_count  \\\n",
       "0  #Elecciones2020 | En #Florida: #JoeBiden dice ...    0.0            0.0   \n",
       "1  #HunterBiden #HunterBidenEmails #JoeBiden #Joe...    0.0            0.0   \n",
       "2  @IslandGirlPRV @BradBeauregardJ @MeidasTouch T...    0.0            0.0   \n",
       "3  @chrislongview Watching and setting dvr. Let’s...    0.0            0.0   \n",
       "4  #censorship #HunterBiden #Biden #BidenEmails #...    1.0            0.0   \n",
       "5  In 2020, #NYPost is being #censorship #CENSORE...    0.0            0.0   \n",
       "6  ►► Tell Politicians to STICK IT with this FREE...    0.0            0.0   \n",
       "7                     #Biden https://t.co/qMs0PmUev5    0.0            0.0   \n",
       "8  Proof  Bidens are crooked. Twitter will suspen...    1.0            1.0   \n",
       "9  Now Open! Create a FREE U.S. Election Pick'em ...    0.0            0.0   \n",
       "\n",
       "                source       user_id  \\\n",
       "0            TweetDeck  3.606665e+08   \n",
       "1     Twitter for iPad  8.099044e+08   \n",
       "2      Twitter Web App  3.494182e+09   \n",
       "3   Twitter for iPhone  8.242596e+17   \n",
       "4      Twitter Web App  1.032807e+18   \n",
       "5   Twitter for iPhone  1.994033e+07   \n",
       "6        Freebie-Depot  1.030832e+08   \n",
       "7      Twitter Web App  1.272568e+18   \n",
       "8  Twitter for Android  1.275659e+18   \n",
       "9       Hootsuite Inc.  2.193205e+07   \n",
       "\n",
       "                                           user_name user_screen_name  \\\n",
       "0                                 El Sol Latino News  elsollatinonews   \n",
       "1                                        Cheri A. 🇺🇸     Biloximeemaw   \n",
       "2                                         Flag Waver      Flag_Wavers   \n",
       "3                                      Michelle Ferg    MichelleFerg4   \n",
       "4                                     the Gold State    theegoldstate   \n",
       "5  Change Illinois | Biden will increase taxes by...   changeillinois   \n",
       "6                                    🆓 Freebie Depot     FreebieDepot   \n",
       "7                                            Kenneth    Kennethuteliv   \n",
       "8                                     Jake Rivendale    JakeRivendale   \n",
       "9                                    OfficePools.com  officepools_com   \n",
       "\n",
       "                                    user_description     ...       \\\n",
       "0  🌐 Noticias de interés para latinos de la costa...     ...        \n",
       "1  Locked and loaded Meemaw. Love God, my family ...     ...        \n",
       "2                                               None     ...        \n",
       "3                                               None     ...        \n",
       "4  A Silicon Valley #independent #News #Media #St...     ...        \n",
       "5  Illinois, home of Lincoln and Reagan, used to ...     ...        \n",
       "6  Free Stuff - No Fluff!  Get all kinds of FREE ...     ...        \n",
       "7                                               None     ...        \n",
       "8                                               None     ...        \n",
       "9  Visit https://t.co/CdmWfqRMIS to play now! #fa...     ...        \n",
       "\n",
       "  user_followers_count                 user_location        lat        long  \\\n",
       "0               1860.0  Philadelphia, PA / Miami, FL  25.774269  -80.193657   \n",
       "1               6628.0                          None        NaN         NaN   \n",
       "2               1536.0         Golden Valley Arizona  46.304035 -109.171432   \n",
       "3                 27.0                          None        NaN         NaN   \n",
       "4                390.0               California, USA  36.701462 -118.755997   \n",
       "5               1397.0             Chicago, Illinois  41.875561  -87.624420   \n",
       "6               6402.0       USA - Land of the FREE!        NaN         NaN   \n",
       "7                103.0                          None        NaN         NaN   \n",
       "8                 80.0                          None        NaN         NaN   \n",
       "9                967.0                          None        NaN         NaN   \n",
       "\n",
       "      city                   country      continent       state state_code  \\\n",
       "0     None  United States of America  North America     Florida         FL   \n",
       "1     None                      None           None        None       None   \n",
       "2     None  United States of America  North America     Montana         MT   \n",
       "3     None                      None           None        None       None   \n",
       "4     None  United States of America  North America  California         CA   \n",
       "5  Chicago  United States of America  North America    Illinois         IL   \n",
       "6     None                      None           None        None       None   \n",
       "7     None                      None           None        None       None   \n",
       "8     None                      None           None        None       None   \n",
       "9     None                      None           None        None       None   \n",
       "\n",
       "  hashtag_type  \n",
       "0        Biden  \n",
       "1        Biden  \n",
       "2        Biden  \n",
       "3        Biden  \n",
       "4        Biden  \n",
       "5        Biden  \n",
       "6        Biden  \n",
       "7        Biden  \n",
       "8        Biden  \n",
       "9        Biden  \n",
       "\n",
       "[10 rows x 21 columns]"
      ]
     },
     "execution_count": 16,
     "metadata": {},
     "output_type": "execute_result"
    }
   ],
   "source": [
    "df_biden.limit(10).toPandas()"
   ]
  },
  {
   "cell_type": "code",
   "execution_count": 157,
   "metadata": {
    "editable": true
   },
   "outputs": [],
   "source": [
    "df_tweets= df_biden.union(df_trump)"
   ]
  },
  {
   "cell_type": "code",
   "execution_count": 160,
   "metadata": {
    "editable": true
   },
   "outputs": [
    {
     "data": {
      "text/plain": [
       "1682732"
      ]
     },
     "execution_count": 160,
     "metadata": {},
     "output_type": "execute_result"
    }
   ],
   "source": [
    "df_tweets.count()"
   ]
  },
  {
   "cell_type": "code",
   "execution_count": 159,
   "metadata": {
    "editable": true
   },
   "outputs": [],
   "source": [
    "df_tweets= df_tweets.withColumn(\"tweet_staging_time\", to_timestamp(col('created_at'), \"yyyy-MM-dd HH:mm:ss\"))\n",
    "df_tweets= df_tweets.na.drop(subset=['tweet_staging_time'])"
   ]
  },
  {
   "cell_type": "code",
   "execution_count": 136,
   "metadata": {
    "editable": true
   },
   "outputs": [
    {
     "name": "stdout",
     "output_type": "stream",
     "text": [
      "root\n",
      " |-- created_at: string (nullable = true)\n",
      " |-- tweet_id: double (nullable = true)\n",
      " |-- tweet: string (nullable = true)\n",
      " |-- likes: float (nullable = true)\n",
      " |-- retweet_count: float (nullable = true)\n",
      " |-- source: string (nullable = true)\n",
      " |-- user_id: double (nullable = true)\n",
      " |-- user_name: string (nullable = true)\n",
      " |-- user_screen_name: string (nullable = true)\n",
      " |-- user_description: string (nullable = true)\n",
      " |-- user_join_date: string (nullable = true)\n",
      " |-- user_followers_count: double (nullable = true)\n",
      " |-- user_location: string (nullable = true)\n",
      " |-- lat: float (nullable = true)\n",
      " |-- long: float (nullable = true)\n",
      " |-- city: string (nullable = true)\n",
      " |-- country: string (nullable = true)\n",
      " |-- continent: string (nullable = true)\n",
      " |-- state: string (nullable = true)\n",
      " |-- state_code: string (nullable = true)\n",
      " |-- hashtag_type: string (nullable = false)\n",
      " |-- tweet_staging_time: timestamp (nullable = true)\n",
      "\n"
     ]
    },
    {
     "data": {
      "text/html": [
       "<div>\n",
       "<style scoped>\n",
       "    .dataframe tbody tr th:only-of-type {\n",
       "        vertical-align: middle;\n",
       "    }\n",
       "\n",
       "    .dataframe tbody tr th {\n",
       "        vertical-align: top;\n",
       "    }\n",
       "\n",
       "    .dataframe thead th {\n",
       "        text-align: right;\n",
       "    }\n",
       "</style>\n",
       "<table border=\"1\" class=\"dataframe\">\n",
       "  <thead>\n",
       "    <tr style=\"text-align: right;\">\n",
       "      <th></th>\n",
       "      <th>created_at</th>\n",
       "      <th>tweet_id</th>\n",
       "      <th>tweet</th>\n",
       "      <th>likes</th>\n",
       "      <th>retweet_count</th>\n",
       "      <th>source</th>\n",
       "      <th>user_id</th>\n",
       "      <th>user_name</th>\n",
       "      <th>user_screen_name</th>\n",
       "      <th>user_description</th>\n",
       "      <th>...</th>\n",
       "      <th>user_location</th>\n",
       "      <th>lat</th>\n",
       "      <th>long</th>\n",
       "      <th>city</th>\n",
       "      <th>country</th>\n",
       "      <th>continent</th>\n",
       "      <th>state</th>\n",
       "      <th>state_code</th>\n",
       "      <th>hashtag_type</th>\n",
       "      <th>tweet_staging_time</th>\n",
       "    </tr>\n",
       "  </thead>\n",
       "  <tbody>\n",
       "    <tr>\n",
       "      <th>0</th>\n",
       "      <td>2020-10-15 00:00:01</td>\n",
       "      <td>1.316529e+18</td>\n",
       "      <td>#Elecciones2020 | En #Florida: #JoeBiden dice ...</td>\n",
       "      <td>0.0</td>\n",
       "      <td>0.0</td>\n",
       "      <td>TweetDeck</td>\n",
       "      <td>3.606665e+08</td>\n",
       "      <td>El Sol Latino News</td>\n",
       "      <td>elsollatinonews</td>\n",
       "      <td>🌐 Noticias de interés para latinos de la costa...</td>\n",
       "      <td>...</td>\n",
       "      <td>Philadelphia, PA / Miami, FL</td>\n",
       "      <td>25.774269</td>\n",
       "      <td>-80.193657</td>\n",
       "      <td>None</td>\n",
       "      <td>United States of America</td>\n",
       "      <td>North America</td>\n",
       "      <td>Florida</td>\n",
       "      <td>FL</td>\n",
       "      <td>Biden</td>\n",
       "      <td>2020-10-15 00:00:01</td>\n",
       "    </tr>\n",
       "    <tr>\n",
       "      <th>1</th>\n",
       "      <td>2020-10-15 00:00:18</td>\n",
       "      <td>1.316529e+18</td>\n",
       "      <td>#HunterBiden #HunterBidenEmails #JoeBiden #Joe...</td>\n",
       "      <td>0.0</td>\n",
       "      <td>0.0</td>\n",
       "      <td>Twitter for iPad</td>\n",
       "      <td>8.099044e+08</td>\n",
       "      <td>Cheri A. 🇺🇸</td>\n",
       "      <td>Biloximeemaw</td>\n",
       "      <td>Locked and loaded Meemaw. Love God, my family ...</td>\n",
       "      <td>...</td>\n",
       "      <td>None</td>\n",
       "      <td>NaN</td>\n",
       "      <td>NaN</td>\n",
       "      <td>None</td>\n",
       "      <td>None</td>\n",
       "      <td>None</td>\n",
       "      <td>None</td>\n",
       "      <td>None</td>\n",
       "      <td>Biden</td>\n",
       "      <td>2020-10-15 00:00:18</td>\n",
       "    </tr>\n",
       "    <tr>\n",
       "      <th>2</th>\n",
       "      <td>2020-10-15 00:00:20</td>\n",
       "      <td>1.316529e+18</td>\n",
       "      <td>@IslandGirlPRV @BradBeauregardJ @MeidasTouch T...</td>\n",
       "      <td>0.0</td>\n",
       "      <td>0.0</td>\n",
       "      <td>Twitter Web App</td>\n",
       "      <td>3.494182e+09</td>\n",
       "      <td>Flag Waver</td>\n",
       "      <td>Flag_Wavers</td>\n",
       "      <td>None</td>\n",
       "      <td>...</td>\n",
       "      <td>Golden Valley Arizona</td>\n",
       "      <td>46.304035</td>\n",
       "      <td>-109.171432</td>\n",
       "      <td>None</td>\n",
       "      <td>United States of America</td>\n",
       "      <td>North America</td>\n",
       "      <td>Montana</td>\n",
       "      <td>MT</td>\n",
       "      <td>Biden</td>\n",
       "      <td>2020-10-15 00:00:20</td>\n",
       "    </tr>\n",
       "    <tr>\n",
       "      <th>3</th>\n",
       "      <td>2020-10-15 00:00:21</td>\n",
       "      <td>1.316529e+18</td>\n",
       "      <td>@chrislongview Watching and setting dvr. Let’s...</td>\n",
       "      <td>0.0</td>\n",
       "      <td>0.0</td>\n",
       "      <td>Twitter for iPhone</td>\n",
       "      <td>8.242596e+17</td>\n",
       "      <td>Michelle Ferg</td>\n",
       "      <td>MichelleFerg4</td>\n",
       "      <td>None</td>\n",
       "      <td>...</td>\n",
       "      <td>None</td>\n",
       "      <td>NaN</td>\n",
       "      <td>NaN</td>\n",
       "      <td>None</td>\n",
       "      <td>None</td>\n",
       "      <td>None</td>\n",
       "      <td>None</td>\n",
       "      <td>None</td>\n",
       "      <td>Biden</td>\n",
       "      <td>2020-10-15 00:00:21</td>\n",
       "    </tr>\n",
       "    <tr>\n",
       "      <th>4</th>\n",
       "      <td>2020-10-15 00:00:22</td>\n",
       "      <td>1.316529e+18</td>\n",
       "      <td>#censorship #HunterBiden #Biden #BidenEmails #...</td>\n",
       "      <td>1.0</td>\n",
       "      <td>0.0</td>\n",
       "      <td>Twitter Web App</td>\n",
       "      <td>1.032807e+18</td>\n",
       "      <td>the Gold State</td>\n",
       "      <td>theegoldstate</td>\n",
       "      <td>A Silicon Valley #independent #News #Media #St...</td>\n",
       "      <td>...</td>\n",
       "      <td>California, USA</td>\n",
       "      <td>36.701462</td>\n",
       "      <td>-118.755997</td>\n",
       "      <td>None</td>\n",
       "      <td>United States of America</td>\n",
       "      <td>North America</td>\n",
       "      <td>California</td>\n",
       "      <td>CA</td>\n",
       "      <td>Biden</td>\n",
       "      <td>2020-10-15 00:00:22</td>\n",
       "    </tr>\n",
       "    <tr>\n",
       "      <th>5</th>\n",
       "      <td>2020-10-15 00:00:25</td>\n",
       "      <td>1.316529e+18</td>\n",
       "      <td>In 2020, #NYPost is being #censorship #CENSORE...</td>\n",
       "      <td>0.0</td>\n",
       "      <td>0.0</td>\n",
       "      <td>Twitter for iPhone</td>\n",
       "      <td>1.994033e+07</td>\n",
       "      <td>Change Illinois | Biden will increase taxes by...</td>\n",
       "      <td>changeillinois</td>\n",
       "      <td>Illinois, home of Lincoln and Reagan, used to ...</td>\n",
       "      <td>...</td>\n",
       "      <td>Chicago, Illinois</td>\n",
       "      <td>41.875561</td>\n",
       "      <td>-87.624420</td>\n",
       "      <td>Chicago</td>\n",
       "      <td>United States of America</td>\n",
       "      <td>North America</td>\n",
       "      <td>Illinois</td>\n",
       "      <td>IL</td>\n",
       "      <td>Biden</td>\n",
       "      <td>2020-10-15 00:00:25</td>\n",
       "    </tr>\n",
       "    <tr>\n",
       "      <th>6</th>\n",
       "      <td>2020-10-15 00:00:31</td>\n",
       "      <td>1.316529e+18</td>\n",
       "      <td>►► Tell Politicians to STICK IT with this FREE...</td>\n",
       "      <td>0.0</td>\n",
       "      <td>0.0</td>\n",
       "      <td>Freebie-Depot</td>\n",
       "      <td>1.030832e+08</td>\n",
       "      <td>🆓 Freebie Depot</td>\n",
       "      <td>FreebieDepot</td>\n",
       "      <td>Free Stuff - No Fluff!  Get all kinds of FREE ...</td>\n",
       "      <td>...</td>\n",
       "      <td>USA - Land of the FREE!</td>\n",
       "      <td>NaN</td>\n",
       "      <td>NaN</td>\n",
       "      <td>None</td>\n",
       "      <td>None</td>\n",
       "      <td>None</td>\n",
       "      <td>None</td>\n",
       "      <td>None</td>\n",
       "      <td>Biden</td>\n",
       "      <td>2020-10-15 00:00:31</td>\n",
       "    </tr>\n",
       "    <tr>\n",
       "      <th>7</th>\n",
       "      <td>2020-10-15 00:00:36</td>\n",
       "      <td>1.316529e+18</td>\n",
       "      <td>#Biden https://t.co/qMs0PmUev5</td>\n",
       "      <td>0.0</td>\n",
       "      <td>0.0</td>\n",
       "      <td>Twitter Web App</td>\n",
       "      <td>1.272568e+18</td>\n",
       "      <td>Kenneth</td>\n",
       "      <td>Kennethuteliv</td>\n",
       "      <td>None</td>\n",
       "      <td>...</td>\n",
       "      <td>None</td>\n",
       "      <td>NaN</td>\n",
       "      <td>NaN</td>\n",
       "      <td>None</td>\n",
       "      <td>None</td>\n",
       "      <td>None</td>\n",
       "      <td>None</td>\n",
       "      <td>None</td>\n",
       "      <td>Biden</td>\n",
       "      <td>2020-10-15 00:00:36</td>\n",
       "    </tr>\n",
       "    <tr>\n",
       "      <th>8</th>\n",
       "      <td>2020-10-15 00:00:41</td>\n",
       "      <td>1.316529e+18</td>\n",
       "      <td>Proof  Bidens are crooked. Twitter will suspen...</td>\n",
       "      <td>1.0</td>\n",
       "      <td>1.0</td>\n",
       "      <td>Twitter for Android</td>\n",
       "      <td>1.275659e+18</td>\n",
       "      <td>Jake Rivendale</td>\n",
       "      <td>JakeRivendale</td>\n",
       "      <td>None</td>\n",
       "      <td>...</td>\n",
       "      <td>None</td>\n",
       "      <td>NaN</td>\n",
       "      <td>NaN</td>\n",
       "      <td>None</td>\n",
       "      <td>None</td>\n",
       "      <td>None</td>\n",
       "      <td>None</td>\n",
       "      <td>None</td>\n",
       "      <td>Biden</td>\n",
       "      <td>2020-10-15 00:00:41</td>\n",
       "    </tr>\n",
       "    <tr>\n",
       "      <th>9</th>\n",
       "      <td>2020-10-15 00:00:44</td>\n",
       "      <td>1.316529e+18</td>\n",
       "      <td>Now Open! Create a FREE U.S. Election Pick'em ...</td>\n",
       "      <td>0.0</td>\n",
       "      <td>0.0</td>\n",
       "      <td>Hootsuite Inc.</td>\n",
       "      <td>2.193205e+07</td>\n",
       "      <td>OfficePools.com</td>\n",
       "      <td>officepools_com</td>\n",
       "      <td>Visit https://t.co/CdmWfqRMIS to play now! #fa...</td>\n",
       "      <td>...</td>\n",
       "      <td>None</td>\n",
       "      <td>NaN</td>\n",
       "      <td>NaN</td>\n",
       "      <td>None</td>\n",
       "      <td>None</td>\n",
       "      <td>None</td>\n",
       "      <td>None</td>\n",
       "      <td>None</td>\n",
       "      <td>Biden</td>\n",
       "      <td>2020-10-15 00:00:44</td>\n",
       "    </tr>\n",
       "  </tbody>\n",
       "</table>\n",
       "<p>10 rows × 22 columns</p>\n",
       "</div>"
      ],
      "text/plain": [
       "            created_at      tweet_id  \\\n",
       "0  2020-10-15 00:00:01  1.316529e+18   \n",
       "1  2020-10-15 00:00:18  1.316529e+18   \n",
       "2  2020-10-15 00:00:20  1.316529e+18   \n",
       "3  2020-10-15 00:00:21  1.316529e+18   \n",
       "4  2020-10-15 00:00:22  1.316529e+18   \n",
       "5  2020-10-15 00:00:25  1.316529e+18   \n",
       "6  2020-10-15 00:00:31  1.316529e+18   \n",
       "7  2020-10-15 00:00:36  1.316529e+18   \n",
       "8  2020-10-15 00:00:41  1.316529e+18   \n",
       "9  2020-10-15 00:00:44  1.316529e+18   \n",
       "\n",
       "                                               tweet  likes  retweet_count  \\\n",
       "0  #Elecciones2020 | En #Florida: #JoeBiden dice ...    0.0            0.0   \n",
       "1  #HunterBiden #HunterBidenEmails #JoeBiden #Joe...    0.0            0.0   \n",
       "2  @IslandGirlPRV @BradBeauregardJ @MeidasTouch T...    0.0            0.0   \n",
       "3  @chrislongview Watching and setting dvr. Let’s...    0.0            0.0   \n",
       "4  #censorship #HunterBiden #Biden #BidenEmails #...    1.0            0.0   \n",
       "5  In 2020, #NYPost is being #censorship #CENSORE...    0.0            0.0   \n",
       "6  ►► Tell Politicians to STICK IT with this FREE...    0.0            0.0   \n",
       "7                     #Biden https://t.co/qMs0PmUev5    0.0            0.0   \n",
       "8  Proof  Bidens are crooked. Twitter will suspen...    1.0            1.0   \n",
       "9  Now Open! Create a FREE U.S. Election Pick'em ...    0.0            0.0   \n",
       "\n",
       "                source       user_id  \\\n",
       "0            TweetDeck  3.606665e+08   \n",
       "1     Twitter for iPad  8.099044e+08   \n",
       "2      Twitter Web App  3.494182e+09   \n",
       "3   Twitter for iPhone  8.242596e+17   \n",
       "4      Twitter Web App  1.032807e+18   \n",
       "5   Twitter for iPhone  1.994033e+07   \n",
       "6        Freebie-Depot  1.030832e+08   \n",
       "7      Twitter Web App  1.272568e+18   \n",
       "8  Twitter for Android  1.275659e+18   \n",
       "9       Hootsuite Inc.  2.193205e+07   \n",
       "\n",
       "                                           user_name user_screen_name  \\\n",
       "0                                 El Sol Latino News  elsollatinonews   \n",
       "1                                        Cheri A. 🇺🇸     Biloximeemaw   \n",
       "2                                         Flag Waver      Flag_Wavers   \n",
       "3                                      Michelle Ferg    MichelleFerg4   \n",
       "4                                     the Gold State    theegoldstate   \n",
       "5  Change Illinois | Biden will increase taxes by...   changeillinois   \n",
       "6                                    🆓 Freebie Depot     FreebieDepot   \n",
       "7                                            Kenneth    Kennethuteliv   \n",
       "8                                     Jake Rivendale    JakeRivendale   \n",
       "9                                    OfficePools.com  officepools_com   \n",
       "\n",
       "                                    user_description         ...          \\\n",
       "0  🌐 Noticias de interés para latinos de la costa...         ...           \n",
       "1  Locked and loaded Meemaw. Love God, my family ...         ...           \n",
       "2                                               None         ...           \n",
       "3                                               None         ...           \n",
       "4  A Silicon Valley #independent #News #Media #St...         ...           \n",
       "5  Illinois, home of Lincoln and Reagan, used to ...         ...           \n",
       "6  Free Stuff - No Fluff!  Get all kinds of FREE ...         ...           \n",
       "7                                               None         ...           \n",
       "8                                               None         ...           \n",
       "9  Visit https://t.co/CdmWfqRMIS to play now! #fa...         ...           \n",
       "\n",
       "                  user_location        lat        long     city  \\\n",
       "0  Philadelphia, PA / Miami, FL  25.774269  -80.193657     None   \n",
       "1                          None        NaN         NaN     None   \n",
       "2         Golden Valley Arizona  46.304035 -109.171432     None   \n",
       "3                          None        NaN         NaN     None   \n",
       "4               California, USA  36.701462 -118.755997     None   \n",
       "5             Chicago, Illinois  41.875561  -87.624420  Chicago   \n",
       "6       USA - Land of the FREE!        NaN         NaN     None   \n",
       "7                          None        NaN         NaN     None   \n",
       "8                          None        NaN         NaN     None   \n",
       "9                          None        NaN         NaN     None   \n",
       "\n",
       "                    country      continent       state state_code  \\\n",
       "0  United States of America  North America     Florida         FL   \n",
       "1                      None           None        None       None   \n",
       "2  United States of America  North America     Montana         MT   \n",
       "3                      None           None        None       None   \n",
       "4  United States of America  North America  California         CA   \n",
       "5  United States of America  North America    Illinois         IL   \n",
       "6                      None           None        None       None   \n",
       "7                      None           None        None       None   \n",
       "8                      None           None        None       None   \n",
       "9                      None           None        None       None   \n",
       "\n",
       "  hashtag_type  tweet_staging_time  \n",
       "0        Biden 2020-10-15 00:00:01  \n",
       "1        Biden 2020-10-15 00:00:18  \n",
       "2        Biden 2020-10-15 00:00:20  \n",
       "3        Biden 2020-10-15 00:00:21  \n",
       "4        Biden 2020-10-15 00:00:22  \n",
       "5        Biden 2020-10-15 00:00:25  \n",
       "6        Biden 2020-10-15 00:00:31  \n",
       "7        Biden 2020-10-15 00:00:36  \n",
       "8        Biden 2020-10-15 00:00:41  \n",
       "9        Biden 2020-10-15 00:00:44  \n",
       "\n",
       "[10 rows x 22 columns]"
      ]
     },
     "execution_count": 136,
     "metadata": {},
     "output_type": "execute_result"
    }
   ],
   "source": [
    "df_tweets.printSchema()\n",
    "df_tweets.limit(10).toPandas()"
   ]
  },
  {
   "cell_type": "code",
   "execution_count": 55,
   "metadata": {
    "editable": true
   },
   "outputs": [
    {
     "data": {
      "text/html": [
       "<div>\n",
       "<style scoped>\n",
       "    .dataframe tbody tr th:only-of-type {\n",
       "        vertical-align: middle;\n",
       "    }\n",
       "\n",
       "    .dataframe tbody tr th {\n",
       "        vertical-align: top;\n",
       "    }\n",
       "\n",
       "    .dataframe thead th {\n",
       "        text-align: right;\n",
       "    }\n",
       "</style>\n",
       "<table border=\"1\" class=\"dataframe\">\n",
       "  <thead>\n",
       "    <tr style=\"text-align: right;\">\n",
       "      <th></th>\n",
       "      <th>created_at</th>\n",
       "      <th>tweet_id</th>\n",
       "      <th>tweet</th>\n",
       "      <th>likes</th>\n",
       "      <th>retweet_count</th>\n",
       "      <th>source</th>\n",
       "      <th>user_id</th>\n",
       "      <th>user_name</th>\n",
       "      <th>user_screen_name</th>\n",
       "      <th>user_description</th>\n",
       "      <th>...</th>\n",
       "      <th>user_followers_count</th>\n",
       "      <th>user_location</th>\n",
       "      <th>lat</th>\n",
       "      <th>long</th>\n",
       "      <th>city</th>\n",
       "      <th>country</th>\n",
       "      <th>continent</th>\n",
       "      <th>state</th>\n",
       "      <th>state_code</th>\n",
       "      <th>hashtag_type</th>\n",
       "    </tr>\n",
       "  </thead>\n",
       "  <tbody>\n",
       "  </tbody>\n",
       "</table>\n",
       "<p>0 rows × 21 columns</p>\n",
       "</div>"
      ],
      "text/plain": [
       "Empty DataFrame\n",
       "Columns: [created_at, tweet_id, tweet, likes, retweet_count, source, user_id, user_name, user_screen_name, user_description, user_join_date, user_followers_count, user_location, lat, long, city, country, continent, state, state_code, hashtag_type]\n",
       "Index: []\n",
       "\n",
       "[0 rows x 21 columns]"
      ]
     },
     "execution_count": 55,
     "metadata": {},
     "output_type": "execute_result"
    }
   ],
   "source": [
    "#df_tweets.select(\"*\").where(col(\"created_at\").isNull()).toPandas()"
   ]
  },
  {
   "cell_type": "code",
   "execution_count": 161,
   "metadata": {
    "editable": true
   },
   "outputs": [],
   "source": [
    "df_users= df_tweets.select([\"user_id\",\"user_name\",\"user_screen_name\",\"user_description\",\"user_followers_count\"]).dropDuplicates()"
   ]
  },
  {
   "cell_type": "code",
   "execution_count": 162,
   "metadata": {
    "editable": true
   },
   "outputs": [
    {
     "name": "stdout",
     "output_type": "stream",
     "text": [
      "root\n",
      " |-- user_id: double (nullable = true)\n",
      " |-- user_name: string (nullable = true)\n",
      " |-- user_screen_name: string (nullable = true)\n",
      " |-- user_description: string (nullable = true)\n",
      " |-- user_followers_count: double (nullable = true)\n",
      "\n"
     ]
    },
    {
     "data": {
      "text/plain": [
       "701556"
      ]
     },
     "execution_count": 162,
     "metadata": {},
     "output_type": "execute_result"
    }
   ],
   "source": [
    "df_users.printSchema()\n",
    "df_users.count()"
   ]
  },
  {
   "cell_type": "code",
   "execution_count": 24,
   "metadata": {
    "editable": true
   },
   "outputs": [
    {
     "data": {
      "text/html": [
       "<div>\n",
       "<style scoped>\n",
       "    .dataframe tbody tr th:only-of-type {\n",
       "        vertical-align: middle;\n",
       "    }\n",
       "\n",
       "    .dataframe tbody tr th {\n",
       "        vertical-align: top;\n",
       "    }\n",
       "\n",
       "    .dataframe thead th {\n",
       "        text-align: right;\n",
       "    }\n",
       "</style>\n",
       "<table border=\"1\" class=\"dataframe\">\n",
       "  <thead>\n",
       "    <tr style=\"text-align: right;\">\n",
       "      <th></th>\n",
       "      <th>user_id</th>\n",
       "      <th>user_name</th>\n",
       "      <th>user_screen_name</th>\n",
       "      <th>user_description</th>\n",
       "      <th>user_followers_count</th>\n",
       "    </tr>\n",
       "  </thead>\n",
       "  <tbody>\n",
       "  </tbody>\n",
       "</table>\n",
       "</div>"
      ],
      "text/plain": [
       "Empty DataFrame\n",
       "Columns: [user_id, user_name, user_screen_name, user_description, user_followers_count]\n",
       "Index: []"
      ]
     },
     "execution_count": 24,
     "metadata": {},
     "output_type": "execute_result"
    }
   ],
   "source": [
    "#df_users.select(\"*\").where(col(\"user_id\").isNull()).toPandas()"
   ]
  },
  {
   "cell_type": "code",
   "execution_count": 163,
   "metadata": {
    "editable": true
   },
   "outputs": [],
   "source": [
    "df_twitter= df_tweets.select([\"tweet_id\",\"tweet\",\"likes\",\"retweet_count\",\"source\"]).dropDuplicates()"
   ]
  },
  {
   "cell_type": "code",
   "execution_count": 26,
   "metadata": {
    "editable": true
   },
   "outputs": [
    {
     "name": "stdout",
     "output_type": "stream",
     "text": [
      "root\n",
      " |-- tweet_id: double (nullable = true)\n",
      " |-- tweet: string (nullable = true)\n",
      " |-- likes: float (nullable = true)\n",
      " |-- retweet_count: float (nullable = true)\n",
      " |-- source: string (nullable = true)\n",
      "\n"
     ]
    },
    {
     "data": {
      "text/plain": [
       "1464556"
      ]
     },
     "execution_count": 26,
     "metadata": {},
     "output_type": "execute_result"
    }
   ],
   "source": [
    "df_twitter.printSchema()\n",
    "df_twitter.count()"
   ]
  },
  {
   "cell_type": "code",
   "execution_count": 27,
   "metadata": {
    "editable": true
   },
   "outputs": [
    {
     "data": {
      "text/html": [
       "<div>\n",
       "<style scoped>\n",
       "    .dataframe tbody tr th:only-of-type {\n",
       "        vertical-align: middle;\n",
       "    }\n",
       "\n",
       "    .dataframe tbody tr th {\n",
       "        vertical-align: top;\n",
       "    }\n",
       "\n",
       "    .dataframe thead th {\n",
       "        text-align: right;\n",
       "    }\n",
       "</style>\n",
       "<table border=\"1\" class=\"dataframe\">\n",
       "  <thead>\n",
       "    <tr style=\"text-align: right;\">\n",
       "      <th></th>\n",
       "      <th>tweet_id</th>\n",
       "      <th>tweet</th>\n",
       "      <th>likes</th>\n",
       "      <th>retweet_count</th>\n",
       "      <th>source</th>\n",
       "    </tr>\n",
       "  </thead>\n",
       "  <tbody>\n",
       "  </tbody>\n",
       "</table>\n",
       "</div>"
      ],
      "text/plain": [
       "Empty DataFrame\n",
       "Columns: [tweet_id, tweet, likes, retweet_count, source]\n",
       "Index: []"
      ]
     },
     "execution_count": 27,
     "metadata": {},
     "output_type": "execute_result"
    }
   ],
   "source": [
    "#df_twitter.select(\"*\").where(col(\"tweet_id\").isNull()).toPandas()"
   ]
  },
  {
   "cell_type": "code",
   "execution_count": 164,
   "metadata": {
    "editable": true
   },
   "outputs": [],
   "source": [
    "df_time= df_tweets.select([\"created_at\"])"
   ]
  },
  {
   "cell_type": "code",
   "execution_count": 165,
   "metadata": {
    "editable": true
   },
   "outputs": [
    {
     "data": {
      "text/html": [
       "<div>\n",
       "<style scoped>\n",
       "    .dataframe tbody tr th:only-of-type {\n",
       "        vertical-align: middle;\n",
       "    }\n",
       "\n",
       "    .dataframe tbody tr th {\n",
       "        vertical-align: top;\n",
       "    }\n",
       "\n",
       "    .dataframe thead th {\n",
       "        text-align: right;\n",
       "    }\n",
       "</style>\n",
       "<table border=\"1\" class=\"dataframe\">\n",
       "  <thead>\n",
       "    <tr style=\"text-align: right;\">\n",
       "      <th></th>\n",
       "      <th>created_at</th>\n",
       "    </tr>\n",
       "  </thead>\n",
       "  <tbody>\n",
       "  </tbody>\n",
       "</table>\n",
       "</div>"
      ],
      "text/plain": [
       "Empty DataFrame\n",
       "Columns: [created_at]\n",
       "Index: []"
      ]
     },
     "execution_count": 165,
     "metadata": {},
     "output_type": "execute_result"
    }
   ],
   "source": [
    "#df_time.select(\"*\").where(col(\"created_at\").isNull()).toPandas()"
   ]
  },
  {
   "cell_type": "code",
   "execution_count": 166,
   "metadata": {
    "editable": true
   },
   "outputs": [
    {
     "name": "stdout",
     "output_type": "stream",
     "text": [
      "root\n",
      " |-- created_at: string (nullable = true)\n",
      "\n"
     ]
    }
   ],
   "source": [
    "df_time.printSchema()"
   ]
  },
  {
   "cell_type": "code",
   "execution_count": 167,
   "metadata": {
    "editable": true
   },
   "outputs": [],
   "source": [
    "df_time= df_time.withColumn(\"tweet_time\", to_timestamp(col('created_at'), \"yyyy-MM-dd HH:mm:ss\"))\n",
    "df_time= df_time.withColumn(\"Date\",to_date(col('tweet_time')))"
   ]
  },
  {
   "cell_type": "code",
   "execution_count": 168,
   "metadata": {
    "editable": true
   },
   "outputs": [],
   "source": [
    "df_time= df_time.selectExpr(['tweet_time as tweet_time',\n",
    "                            'hour(Date) as hour',\n",
    "                            'dayofmonth(Date) as day',\n",
    "                            'weekofyear(Date) as week',\n",
    "                            'month(Date) as month',\n",
    "                            'dayofweek(Date) as weekday',\n",
    "                            ])"
   ]
  },
  {
   "cell_type": "code",
   "execution_count": 169,
   "metadata": {
    "editable": true
   },
   "outputs": [
    {
     "name": "stdout",
     "output_type": "stream",
     "text": [
      "root\n",
      " |-- tweet_time: timestamp (nullable = true)\n",
      " |-- hour: integer (nullable = true)\n",
      " |-- day: integer (nullable = true)\n",
      " |-- week: integer (nullable = true)\n",
      " |-- month: integer (nullable = true)\n",
      " |-- weekday: integer (nullable = true)\n",
      "\n"
     ]
    }
   ],
   "source": [
    "df_time.printSchema()"
   ]
  },
  {
   "cell_type": "code",
   "execution_count": 170,
   "metadata": {
    "editable": true
   },
   "outputs": [],
   "source": [
    "df_time= df_time.na.drop(subset=['tweet_time'])"
   ]
  },
  {
   "cell_type": "code",
   "execution_count": 71,
   "metadata": {
    "editable": true
   },
   "outputs": [
    {
     "data": {
      "text/html": [
       "<div>\n",
       "<style scoped>\n",
       "    .dataframe tbody tr th:only-of-type {\n",
       "        vertical-align: middle;\n",
       "    }\n",
       "\n",
       "    .dataframe tbody tr th {\n",
       "        vertical-align: top;\n",
       "    }\n",
       "\n",
       "    .dataframe thead th {\n",
       "        text-align: right;\n",
       "    }\n",
       "</style>\n",
       "<table border=\"1\" class=\"dataframe\">\n",
       "  <thead>\n",
       "    <tr style=\"text-align: right;\">\n",
       "      <th></th>\n",
       "      <th>tweet_time</th>\n",
       "      <th>hour</th>\n",
       "      <th>day</th>\n",
       "      <th>week</th>\n",
       "      <th>month</th>\n",
       "      <th>weekday</th>\n",
       "      <th>tweet_id</th>\n",
       "    </tr>\n",
       "  </thead>\n",
       "  <tbody>\n",
       "  </tbody>\n",
       "</table>\n",
       "</div>"
      ],
      "text/plain": [
       "Empty DataFrame\n",
       "Columns: [tweet_time, hour, day, week, month, weekday, tweet_id]\n",
       "Index: []"
      ]
     },
     "execution_count": 71,
     "metadata": {},
     "output_type": "execute_result"
    }
   ],
   "source": [
    "#df_time.select(\"*\").where(col(\"tweet_time\").isNull()).toPandas()"
   ]
  },
  {
   "cell_type": "code",
   "execution_count": 72,
   "metadata": {
    "editable": true
   },
   "outputs": [
    {
     "data": {
      "text/html": [
       "<div>\n",
       "<style scoped>\n",
       "    .dataframe tbody tr th:only-of-type {\n",
       "        vertical-align: middle;\n",
       "    }\n",
       "\n",
       "    .dataframe tbody tr th {\n",
       "        vertical-align: top;\n",
       "    }\n",
       "\n",
       "    .dataframe thead th {\n",
       "        text-align: right;\n",
       "    }\n",
       "</style>\n",
       "<table border=\"1\" class=\"dataframe\">\n",
       "  <thead>\n",
       "    <tr style=\"text-align: right;\">\n",
       "      <th></th>\n",
       "      <th>week</th>\n",
       "      <th>count</th>\n",
       "    </tr>\n",
       "  </thead>\n",
       "  <tbody>\n",
       "    <tr>\n",
       "      <th>0</th>\n",
       "      <td>44</td>\n",
       "      <td>261167</td>\n",
       "    </tr>\n",
       "    <tr>\n",
       "      <th>1</th>\n",
       "      <td>43</td>\n",
       "      <td>279973</td>\n",
       "    </tr>\n",
       "    <tr>\n",
       "      <th>2</th>\n",
       "      <td>45</td>\n",
       "      <td>1015119</td>\n",
       "    </tr>\n",
       "    <tr>\n",
       "      <th>3</th>\n",
       "      <td>42</td>\n",
       "      <td>126473</td>\n",
       "    </tr>\n",
       "  </tbody>\n",
       "</table>\n",
       "</div>"
      ],
      "text/plain": [
       "   week    count\n",
       "0    44   261167\n",
       "1    43   279973\n",
       "2    45  1015119\n",
       "3    42   126473"
      ]
     },
     "execution_count": 72,
     "metadata": {},
     "output_type": "execute_result"
    }
   ],
   "source": [
    "#df_time.groupBy('week').count().limit(5).toPandas()"
   ]
  },
  {
   "cell_type": "code",
   "execution_count": 171,
   "metadata": {
    "editable": true
   },
   "outputs": [],
   "source": [
    "df_location= df_tweets.select(['user_location','lat','long','country','state'])\n",
    "df_location= df_location.na.drop(subset=['user_location','state'])"
   ]
  },
  {
   "cell_type": "code",
   "execution_count": 172,
   "metadata": {
    "editable": true
   },
   "outputs": [
    {
     "name": "stdout",
     "output_type": "stream",
     "text": [
      "root\n",
      " |-- user_location: string (nullable = true)\n",
      " |-- lat: float (nullable = true)\n",
      " |-- long: float (nullable = true)\n",
      " |-- country: string (nullable = true)\n",
      " |-- state: string (nullable = true)\n",
      "\n"
     ]
    }
   ],
   "source": [
    "df_location.printSchema()"
   ]
  },
  {
   "cell_type": "code",
   "execution_count": 92,
   "metadata": {
    "editable": true
   },
   "outputs": [
    {
     "data": {
      "text/html": [
       "<div>\n",
       "<style scoped>\n",
       "    .dataframe tbody tr th:only-of-type {\n",
       "        vertical-align: middle;\n",
       "    }\n",
       "\n",
       "    .dataframe tbody tr th {\n",
       "        vertical-align: top;\n",
       "    }\n",
       "\n",
       "    .dataframe thead th {\n",
       "        text-align: right;\n",
       "    }\n",
       "</style>\n",
       "<table border=\"1\" class=\"dataframe\">\n",
       "  <thead>\n",
       "    <tr style=\"text-align: right;\">\n",
       "      <th></th>\n",
       "      <th>user_location</th>\n",
       "      <th>lat</th>\n",
       "      <th>long</th>\n",
       "      <th>country</th>\n",
       "      <th>state</th>\n",
       "    </tr>\n",
       "  </thead>\n",
       "  <tbody>\n",
       "    <tr>\n",
       "      <th>0</th>\n",
       "      <td>Philadelphia, PA / Miami, FL</td>\n",
       "      <td>25.774269</td>\n",
       "      <td>-80.193657</td>\n",
       "      <td>United States of America</td>\n",
       "      <td>Florida</td>\n",
       "    </tr>\n",
       "    <tr>\n",
       "      <th>1</th>\n",
       "      <td>Golden Valley Arizona</td>\n",
       "      <td>46.304035</td>\n",
       "      <td>-109.171432</td>\n",
       "      <td>United States of America</td>\n",
       "      <td>Montana</td>\n",
       "    </tr>\n",
       "    <tr>\n",
       "      <th>2</th>\n",
       "      <td>California, USA</td>\n",
       "      <td>36.701462</td>\n",
       "      <td>-118.755997</td>\n",
       "      <td>United States of America</td>\n",
       "      <td>California</td>\n",
       "    </tr>\n",
       "    <tr>\n",
       "      <th>3</th>\n",
       "      <td>Chicago, Illinois</td>\n",
       "      <td>41.875561</td>\n",
       "      <td>-87.624420</td>\n",
       "      <td>United States of America</td>\n",
       "      <td>Illinois</td>\n",
       "    </tr>\n",
       "    <tr>\n",
       "      <th>4</th>\n",
       "      <td>Tampa, Florida</td>\n",
       "      <td>27.947760</td>\n",
       "      <td>-82.458443</td>\n",
       "      <td>United States of America</td>\n",
       "      <td>Florida</td>\n",
       "    </tr>\n",
       "    <tr>\n",
       "      <th>5</th>\n",
       "      <td>Champaign, IL</td>\n",
       "      <td>40.116421</td>\n",
       "      <td>-88.243385</td>\n",
       "      <td>United States of America</td>\n",
       "      <td>Illinois</td>\n",
       "    </tr>\n",
       "    <tr>\n",
       "      <th>6</th>\n",
       "      <td>Hollywood, FL</td>\n",
       "      <td>34.098003</td>\n",
       "      <td>-118.329521</td>\n",
       "      <td>United States of America</td>\n",
       "      <td>California</td>\n",
       "    </tr>\n",
       "    <tr>\n",
       "      <th>7</th>\n",
       "      <td>Los Angeles, CA</td>\n",
       "      <td>34.053692</td>\n",
       "      <td>-118.242767</td>\n",
       "      <td>United States of America</td>\n",
       "      <td>California</td>\n",
       "    </tr>\n",
       "    <tr>\n",
       "      <th>8</th>\n",
       "      <td>Florida, USA</td>\n",
       "      <td>27.756767</td>\n",
       "      <td>-81.463982</td>\n",
       "      <td>United States of America</td>\n",
       "      <td>Florida</td>\n",
       "    </tr>\n",
       "    <tr>\n",
       "      <th>9</th>\n",
       "      <td>Hemet, California</td>\n",
       "      <td>33.747520</td>\n",
       "      <td>-116.971970</td>\n",
       "      <td>United States of America</td>\n",
       "      <td>California</td>\n",
       "    </tr>\n",
       "  </tbody>\n",
       "</table>\n",
       "</div>"
      ],
      "text/plain": [
       "                  user_location        lat        long  \\\n",
       "0  Philadelphia, PA / Miami, FL  25.774269  -80.193657   \n",
       "1         Golden Valley Arizona  46.304035 -109.171432   \n",
       "2               California, USA  36.701462 -118.755997   \n",
       "3             Chicago, Illinois  41.875561  -87.624420   \n",
       "4                Tampa, Florida  27.947760  -82.458443   \n",
       "5                 Champaign, IL  40.116421  -88.243385   \n",
       "6                 Hollywood, FL  34.098003 -118.329521   \n",
       "7               Los Angeles, CA  34.053692 -118.242767   \n",
       "8                  Florida, USA  27.756767  -81.463982   \n",
       "9           Hemet, California    33.747520 -116.971970   \n",
       "\n",
       "                    country       state  \n",
       "0  United States of America     Florida  \n",
       "1  United States of America     Montana  \n",
       "2  United States of America  California  \n",
       "3  United States of America    Illinois  \n",
       "4  United States of America     Florida  \n",
       "5  United States of America    Illinois  \n",
       "6  United States of America  California  \n",
       "7  United States of America  California  \n",
       "8  United States of America     Florida  \n",
       "9  United States of America  California  "
      ]
     },
     "execution_count": 92,
     "metadata": {},
     "output_type": "execute_result"
    }
   ],
   "source": [
    "df_location.limit(10).toPandas()"
   ]
  },
  {
   "cell_type": "code",
   "execution_count": null,
   "metadata": {
    "editable": true
   },
   "outputs": [],
   "source": []
  },
  {
   "cell_type": "code",
   "execution_count": 87,
   "metadata": {
    "collapsed": true,
    "editable": true,
    "jupyter": {
     "outputs_hidden": true
    }
   },
   "outputs": [
    {
     "data": {
      "text/html": [
       "<div>\n",
       "<style scoped>\n",
       "    .dataframe tbody tr th:only-of-type {\n",
       "        vertical-align: middle;\n",
       "    }\n",
       "\n",
       "    .dataframe tbody tr th {\n",
       "        vertical-align: top;\n",
       "    }\n",
       "\n",
       "    .dataframe thead th {\n",
       "        text-align: right;\n",
       "    }\n",
       "</style>\n",
       "<table border=\"1\" class=\"dataframe\">\n",
       "  <thead>\n",
       "    <tr style=\"text-align: right;\">\n",
       "      <th></th>\n",
       "      <th>state</th>\n",
       "      <th>count</th>\n",
       "    </tr>\n",
       "  </thead>\n",
       "  <tbody>\n",
       "    <tr>\n",
       "      <th>0</th>\n",
       "      <td>California</td>\n",
       "      <td>53987</td>\n",
       "    </tr>\n",
       "    <tr>\n",
       "      <th>1</th>\n",
       "      <td>New York</td>\n",
       "      <td>41902</td>\n",
       "    </tr>\n",
       "    <tr>\n",
       "      <th>2</th>\n",
       "      <td>Texas</td>\n",
       "      <td>28769</td>\n",
       "    </tr>\n",
       "    <tr>\n",
       "      <th>3</th>\n",
       "      <td>Florida</td>\n",
       "      <td>28403</td>\n",
       "    </tr>\n",
       "    <tr>\n",
       "      <th>4</th>\n",
       "      <td>District of Columbia</td>\n",
       "      <td>15819</td>\n",
       "    </tr>\n",
       "    <tr>\n",
       "      <th>5</th>\n",
       "      <td>Pennsylvania</td>\n",
       "      <td>11765</td>\n",
       "    </tr>\n",
       "    <tr>\n",
       "      <th>6</th>\n",
       "      <td>Illinois</td>\n",
       "      <td>11651</td>\n",
       "    </tr>\n",
       "    <tr>\n",
       "      <th>7</th>\n",
       "      <td>New Jersey</td>\n",
       "      <td>8586</td>\n",
       "    </tr>\n",
       "    <tr>\n",
       "      <th>8</th>\n",
       "      <td>Massachusetts</td>\n",
       "      <td>8110</td>\n",
       "    </tr>\n",
       "    <tr>\n",
       "      <th>9</th>\n",
       "      <td>Ohio</td>\n",
       "      <td>8047</td>\n",
       "    </tr>\n",
       "    <tr>\n",
       "      <th>10</th>\n",
       "      <td>North Carolina</td>\n",
       "      <td>6204</td>\n",
       "    </tr>\n",
       "    <tr>\n",
       "      <th>11</th>\n",
       "      <td>Colorado</td>\n",
       "      <td>6100</td>\n",
       "    </tr>\n",
       "    <tr>\n",
       "      <th>12</th>\n",
       "      <td>Georgia</td>\n",
       "      <td>5866</td>\n",
       "    </tr>\n",
       "    <tr>\n",
       "      <th>13</th>\n",
       "      <td>Arizona</td>\n",
       "      <td>5842</td>\n",
       "    </tr>\n",
       "    <tr>\n",
       "      <th>14</th>\n",
       "      <td>Michigan</td>\n",
       "      <td>5750</td>\n",
       "    </tr>\n",
       "    <tr>\n",
       "      <th>15</th>\n",
       "      <td>Oregon</td>\n",
       "      <td>4945</td>\n",
       "    </tr>\n",
       "    <tr>\n",
       "      <th>16</th>\n",
       "      <td>Washington</td>\n",
       "      <td>4529</td>\n",
       "    </tr>\n",
       "    <tr>\n",
       "      <th>17</th>\n",
       "      <td>Virginia</td>\n",
       "      <td>4430</td>\n",
       "    </tr>\n",
       "    <tr>\n",
       "      <th>18</th>\n",
       "      <td>Nevada</td>\n",
       "      <td>4372</td>\n",
       "    </tr>\n",
       "    <tr>\n",
       "      <th>19</th>\n",
       "      <td>Tennessee</td>\n",
       "      <td>4072</td>\n",
       "    </tr>\n",
       "    <tr>\n",
       "      <th>20</th>\n",
       "      <td>Maryland</td>\n",
       "      <td>4019</td>\n",
       "    </tr>\n",
       "    <tr>\n",
       "      <th>21</th>\n",
       "      <td>Missouri</td>\n",
       "      <td>3960</td>\n",
       "    </tr>\n",
       "    <tr>\n",
       "      <th>22</th>\n",
       "      <td>Minnesota</td>\n",
       "      <td>3331</td>\n",
       "    </tr>\n",
       "    <tr>\n",
       "      <th>23</th>\n",
       "      <td>Indiana</td>\n",
       "      <td>3015</td>\n",
       "    </tr>\n",
       "    <tr>\n",
       "      <th>24</th>\n",
       "      <td>Wisconsin</td>\n",
       "      <td>3001</td>\n",
       "    </tr>\n",
       "    <tr>\n",
       "      <th>25</th>\n",
       "      <td>Kentucky</td>\n",
       "      <td>2580</td>\n",
       "    </tr>\n",
       "    <tr>\n",
       "      <th>26</th>\n",
       "      <td>Louisiana</td>\n",
       "      <td>2090</td>\n",
       "    </tr>\n",
       "    <tr>\n",
       "      <th>27</th>\n",
       "      <td>South Carolina</td>\n",
       "      <td>2066</td>\n",
       "    </tr>\n",
       "    <tr>\n",
       "      <th>28</th>\n",
       "      <td>Connecticut</td>\n",
       "      <td>1982</td>\n",
       "    </tr>\n",
       "    <tr>\n",
       "      <th>29</th>\n",
       "      <td>Utah</td>\n",
       "      <td>1692</td>\n",
       "    </tr>\n",
       "    <tr>\n",
       "      <th>30</th>\n",
       "      <td>Kansas</td>\n",
       "      <td>1674</td>\n",
       "    </tr>\n",
       "    <tr>\n",
       "      <th>31</th>\n",
       "      <td>Alabama</td>\n",
       "      <td>1670</td>\n",
       "    </tr>\n",
       "    <tr>\n",
       "      <th>32</th>\n",
       "      <td>Oklahoma</td>\n",
       "      <td>1558</td>\n",
       "    </tr>\n",
       "    <tr>\n",
       "      <th>33</th>\n",
       "      <td>Iowa</td>\n",
       "      <td>1373</td>\n",
       "    </tr>\n",
       "    <tr>\n",
       "      <th>34</th>\n",
       "      <td>Hawaii</td>\n",
       "      <td>1305</td>\n",
       "    </tr>\n",
       "    <tr>\n",
       "      <th>35</th>\n",
       "      <td>Vermont</td>\n",
       "      <td>1124</td>\n",
       "    </tr>\n",
       "    <tr>\n",
       "      <th>36</th>\n",
       "      <td>Arkansas</td>\n",
       "      <td>1052</td>\n",
       "    </tr>\n",
       "    <tr>\n",
       "      <th>37</th>\n",
       "      <td>Puerto Rico</td>\n",
       "      <td>962</td>\n",
       "    </tr>\n",
       "    <tr>\n",
       "      <th>38</th>\n",
       "      <td>Idaho</td>\n",
       "      <td>949</td>\n",
       "    </tr>\n",
       "    <tr>\n",
       "      <th>39</th>\n",
       "      <td>New Mexico</td>\n",
       "      <td>894</td>\n",
       "    </tr>\n",
       "    <tr>\n",
       "      <th>40</th>\n",
       "      <td>Nebraska</td>\n",
       "      <td>756</td>\n",
       "    </tr>\n",
       "    <tr>\n",
       "      <th>41</th>\n",
       "      <td>Alaska</td>\n",
       "      <td>706</td>\n",
       "    </tr>\n",
       "    <tr>\n",
       "      <th>42</th>\n",
       "      <td>Maine</td>\n",
       "      <td>678</td>\n",
       "    </tr>\n",
       "    <tr>\n",
       "      <th>43</th>\n",
       "      <td>West Virginia</td>\n",
       "      <td>641</td>\n",
       "    </tr>\n",
       "    <tr>\n",
       "      <th>44</th>\n",
       "      <td>New Hampshire</td>\n",
       "      <td>615</td>\n",
       "    </tr>\n",
       "    <tr>\n",
       "      <th>45</th>\n",
       "      <td>North Dakota</td>\n",
       "      <td>561</td>\n",
       "    </tr>\n",
       "    <tr>\n",
       "      <th>46</th>\n",
       "      <td>Delaware</td>\n",
       "      <td>507</td>\n",
       "    </tr>\n",
       "    <tr>\n",
       "      <th>47</th>\n",
       "      <td>Mississippi</td>\n",
       "      <td>496</td>\n",
       "    </tr>\n",
       "    <tr>\n",
       "      <th>48</th>\n",
       "      <td>Wyoming</td>\n",
       "      <td>491</td>\n",
       "    </tr>\n",
       "    <tr>\n",
       "      <th>49</th>\n",
       "      <td>Rhode Island</td>\n",
       "      <td>477</td>\n",
       "    </tr>\n",
       "    <tr>\n",
       "      <th>50</th>\n",
       "      <td>Montana</td>\n",
       "      <td>444</td>\n",
       "    </tr>\n",
       "    <tr>\n",
       "      <th>51</th>\n",
       "      <td>South Dakota</td>\n",
       "      <td>133</td>\n",
       "    </tr>\n",
       "    <tr>\n",
       "      <th>52</th>\n",
       "      <td>None</td>\n",
       "      <td>26</td>\n",
       "    </tr>\n",
       "    <tr>\n",
       "      <th>53</th>\n",
       "      <td>Guam</td>\n",
       "      <td>9</td>\n",
       "    </tr>\n",
       "    <tr>\n",
       "      <th>54</th>\n",
       "      <td>Northern Mariana Islands</td>\n",
       "      <td>1</td>\n",
       "    </tr>\n",
       "  </tbody>\n",
       "</table>\n",
       "</div>"
      ],
      "text/plain": [
       "                       state  count\n",
       "0                 California  53987\n",
       "1                   New York  41902\n",
       "2                      Texas  28769\n",
       "3                    Florida  28403\n",
       "4       District of Columbia  15819\n",
       "5               Pennsylvania  11765\n",
       "6                   Illinois  11651\n",
       "7                 New Jersey   8586\n",
       "8              Massachusetts   8110\n",
       "9                       Ohio   8047\n",
       "10            North Carolina   6204\n",
       "11                  Colorado   6100\n",
       "12                   Georgia   5866\n",
       "13                   Arizona   5842\n",
       "14                  Michigan   5750\n",
       "15                    Oregon   4945\n",
       "16                Washington   4529\n",
       "17                  Virginia   4430\n",
       "18                    Nevada   4372\n",
       "19                 Tennessee   4072\n",
       "20                  Maryland   4019\n",
       "21                  Missouri   3960\n",
       "22                 Minnesota   3331\n",
       "23                   Indiana   3015\n",
       "24                 Wisconsin   3001\n",
       "25                  Kentucky   2580\n",
       "26                 Louisiana   2090\n",
       "27            South Carolina   2066\n",
       "28               Connecticut   1982\n",
       "29                      Utah   1692\n",
       "30                    Kansas   1674\n",
       "31                   Alabama   1670\n",
       "32                  Oklahoma   1558\n",
       "33                      Iowa   1373\n",
       "34                    Hawaii   1305\n",
       "35                   Vermont   1124\n",
       "36                  Arkansas   1052\n",
       "37               Puerto Rico    962\n",
       "38                     Idaho    949\n",
       "39                New Mexico    894\n",
       "40                  Nebraska    756\n",
       "41                    Alaska    706\n",
       "42                     Maine    678\n",
       "43             West Virginia    641\n",
       "44             New Hampshire    615\n",
       "45              North Dakota    561\n",
       "46                  Delaware    507\n",
       "47               Mississippi    496\n",
       "48                   Wyoming    491\n",
       "49              Rhode Island    477\n",
       "50                   Montana    444\n",
       "51              South Dakota    133\n",
       "52                      None     26\n",
       "53                      Guam      9\n",
       "54  Northern Mariana Islands      1"
      ]
     },
     "execution_count": 87,
     "metadata": {},
     "output_type": "execute_result"
    }
   ],
   "source": [
    "#df_tweets.where(col('country')==\"United States of America\").groupBy('state').count().orderBy(col('count').desc()).toPandas()\n"
   ]
  },
  {
   "cell_type": "code",
   "execution_count": 173,
   "metadata": {
    "editable": true
   },
   "outputs": [],
   "source": [
    "df_tweets= df_tweets.na.fill(\"NA\")"
   ]
  },
  {
   "cell_type": "code",
   "execution_count": 174,
   "metadata": {
    "editable": true
   },
   "outputs": [
    {
     "data": {
      "text/plain": [
       "1682732"
      ]
     },
     "execution_count": 174,
     "metadata": {},
     "output_type": "execute_result"
    }
   ],
   "source": [
    "df_tweets.count()"
   ]
  },
  {
   "cell_type": "code",
   "execution_count": 175,
   "metadata": {
    "editable": true
   },
   "outputs": [
    {
     "data": {
      "text/plain": [
       "1682732"
      ]
     },
     "execution_count": 175,
     "metadata": {},
     "output_type": "execute_result"
    }
   ],
   "source": [
    "df_time.count()"
   ]
  },
  {
   "cell_type": "code",
   "execution_count": 178,
   "metadata": {
    "editable": true
   },
   "outputs": [],
   "source": [
    "df_intermediate_tweets= df_tweets.join(df_time, (df_tweets.tweet_staging_time == df_time.tweet_time)).dropDuplicates()"
   ]
  },
  {
   "cell_type": "code",
   "execution_count": 179,
   "metadata": {
    "editable": true
   },
   "outputs": [
    {
     "data": {
      "text/plain": [
       "1663358"
      ]
     },
     "execution_count": 179,
     "metadata": {},
     "output_type": "execute_result"
    }
   ],
   "source": [
    "df_intermediate_tweets.count()"
   ]
  },
  {
   "cell_type": "code",
   "execution_count": 180,
   "metadata": {
    "editable": true
   },
   "outputs": [
    {
     "name": "stdout",
     "output_type": "stream",
     "text": [
      "root\n",
      " |-- created_at: string (nullable = false)\n",
      " |-- tweet_id: double (nullable = true)\n",
      " |-- tweet: string (nullable = false)\n",
      " |-- likes: float (nullable = true)\n",
      " |-- retweet_count: float (nullable = true)\n",
      " |-- source: string (nullable = false)\n",
      " |-- user_id: double (nullable = true)\n",
      " |-- user_name: string (nullable = false)\n",
      " |-- user_screen_name: string (nullable = false)\n",
      " |-- user_description: string (nullable = false)\n",
      " |-- user_join_date: string (nullable = false)\n",
      " |-- user_followers_count: double (nullable = true)\n",
      " |-- user_location: string (nullable = false)\n",
      " |-- lat: float (nullable = true)\n",
      " |-- long: float (nullable = true)\n",
      " |-- city: string (nullable = false)\n",
      " |-- country: string (nullable = false)\n",
      " |-- continent: string (nullable = false)\n",
      " |-- state: string (nullable = false)\n",
      " |-- state_code: string (nullable = false)\n",
      " |-- hashtag_type: string (nullable = false)\n",
      " |-- tweet_staging_time: timestamp (nullable = true)\n",
      " |-- tweet_time: timestamp (nullable = true)\n",
      " |-- hour: integer (nullable = true)\n",
      " |-- day: integer (nullable = true)\n",
      " |-- week: integer (nullable = true)\n",
      " |-- month: integer (nullable = true)\n",
      " |-- weekday: integer (nullable = true)\n",
      "\n"
     ]
    }
   ],
   "source": [
    "df_intermediate_tweets.printSchema()"
   ]
  },
  {
   "cell_type": "code",
   "execution_count": 181,
   "metadata": {
    "editable": true
   },
   "outputs": [],
   "source": [
    "To_load= [\"tweet_time as tweet_time\", \"tweet_id as tweetId\", \"user_id as UserId\", \"tweet as tweet\", \"user_location as tweet_location\", \"week as week\"]"
   ]
  },
  {
   "cell_type": "code",
   "execution_count": 155,
   "metadata": {
    "editable": true
   },
   "outputs": [
    {
     "data": {
      "text/plain": [
       "6270660"
      ]
     },
     "execution_count": 155,
     "metadata": {},
     "output_type": "execute_result"
    }
   ],
   "source": [
    "df_tweets.count()"
   ]
  },
  {
   "cell_type": "code",
   "execution_count": 182,
   "metadata": {
    "editable": true
   },
   "outputs": [],
   "source": [
    "df_tweet_details= df_intermediate_tweets.selectExpr(To_load).withColumn('Id', monotonically_increasing_id())"
   ]
  },
  {
   "cell_type": "code",
   "execution_count": 183,
   "metadata": {
    "editable": true
   },
   "outputs": [
    {
     "name": "stdout",
     "output_type": "stream",
     "text": [
      "root\n",
      " |-- tweet_time: timestamp (nullable = true)\n",
      " |-- tweetId: double (nullable = true)\n",
      " |-- UserId: double (nullable = true)\n",
      " |-- tweet: string (nullable = false)\n",
      " |-- tweet_location: string (nullable = false)\n",
      " |-- week: integer (nullable = true)\n",
      " |-- Id: long (nullable = false)\n",
      "\n"
     ]
    }
   ],
   "source": [
    "df_tweet_details.printSchema()"
   ]
  },
  {
   "cell_type": "code",
   "execution_count": 184,
   "metadata": {
    "editable": true
   },
   "outputs": [
    {
     "data": {
      "text/plain": [
       "1663358"
      ]
     },
     "execution_count": 184,
     "metadata": {},
     "output_type": "execute_result"
    }
   ],
   "source": [
    "df_tweet_details.count()"
   ]
  },
  {
   "cell_type": "code",
   "execution_count": 185,
   "metadata": {
    "editable": true
   },
   "outputs": [
    {
     "data": {
      "text/html": [
       "<div>\n",
       "<style scoped>\n",
       "    .dataframe tbody tr th:only-of-type {\n",
       "        vertical-align: middle;\n",
       "    }\n",
       "\n",
       "    .dataframe tbody tr th {\n",
       "        vertical-align: top;\n",
       "    }\n",
       "\n",
       "    .dataframe thead th {\n",
       "        text-align: right;\n",
       "    }\n",
       "</style>\n",
       "<table border=\"1\" class=\"dataframe\">\n",
       "  <thead>\n",
       "    <tr style=\"text-align: right;\">\n",
       "      <th></th>\n",
       "      <th>tweet_time</th>\n",
       "      <th>tweetId</th>\n",
       "      <th>UserId</th>\n",
       "      <th>tweet</th>\n",
       "      <th>tweet_location</th>\n",
       "      <th>week</th>\n",
       "      <th>Id</th>\n",
       "    </tr>\n",
       "  </thead>\n",
       "  <tbody>\n",
       "    <tr>\n",
       "      <th>0</th>\n",
       "      <td>2020-10-15 00:05:50</td>\n",
       "      <td>1.316531e+18</td>\n",
       "      <td>5.182709e+07</td>\n",
       "      <td>Vice President #Biden is 77 years young.\\nI am...</td>\n",
       "      <td>San Diego, CA USA</td>\n",
       "      <td>42</td>\n",
       "      <td>0</td>\n",
       "    </tr>\n",
       "    <tr>\n",
       "      <th>1</th>\n",
       "      <td>2020-10-15 00:05:50</td>\n",
       "      <td>1.316531e+18</td>\n",
       "      <td>7.615802e+17</td>\n",
       "      <td>@JoeBiden #BidenHarris2020 #DonaldTrump #Hunte...</td>\n",
       "      <td>Fitchburg, WI</td>\n",
       "      <td>42</td>\n",
       "      <td>1</td>\n",
       "    </tr>\n",
       "    <tr>\n",
       "      <th>2</th>\n",
       "      <td>2020-10-15 00:06:49</td>\n",
       "      <td>1.316531e+18</td>\n",
       "      <td>7.005492e+17</td>\n",
       "      <td>Kpop fans please unite and stream Biden’s Town...</td>\n",
       "      <td>NA</td>\n",
       "      <td>42</td>\n",
       "      <td>2</td>\n",
       "    </tr>\n",
       "    <tr>\n",
       "      <th>3</th>\n",
       "      <td>2020-10-15 00:06:49</td>\n",
       "      <td>1.316531e+18</td>\n",
       "      <td>3.354807e+08</td>\n",
       "      <td>#JoniErnst #KristiNoem #MitchMcConnell 4 Ds #M...</td>\n",
       "      <td>NA</td>\n",
       "      <td>42</td>\n",
       "      <td>3</td>\n",
       "    </tr>\n",
       "    <tr>\n",
       "      <th>4</th>\n",
       "      <td>2020-10-15 00:06:49</td>\n",
       "      <td>1.316531e+18</td>\n",
       "      <td>2.336564e+07</td>\n",
       "      <td>#Cube is a #trump tool!!!! How his legacy will...</td>\n",
       "      <td>Savannah, GA</td>\n",
       "      <td>42</td>\n",
       "      <td>4</td>\n",
       "    </tr>\n",
       "    <tr>\n",
       "      <th>5</th>\n",
       "      <td>2020-10-15 00:34:39</td>\n",
       "      <td>1.316538e+18</td>\n",
       "      <td>1.245436e+18</td>\n",
       "      <td>@TrumpLadyFran Besides being election interfer...</td>\n",
       "      <td>NA</td>\n",
       "      <td>42</td>\n",
       "      <td>5</td>\n",
       "    </tr>\n",
       "    <tr>\n",
       "      <th>6</th>\n",
       "      <td>2020-10-15 00:38:30</td>\n",
       "      <td>1.316539e+18</td>\n",
       "      <td>1.299111e+18</td>\n",
       "      <td>Scientific journal 'Nature' endorses Biden #Biden</td>\n",
       "      <td>Boynton Beach, FL</td>\n",
       "      <td>42</td>\n",
       "      <td>6</td>\n",
       "    </tr>\n",
       "    <tr>\n",
       "      <th>7</th>\n",
       "      <td>2020-10-15 00:56:58</td>\n",
       "      <td>1.316544e+18</td>\n",
       "      <td>1.723393e+09</td>\n",
       "      <td>Why are #Democrats ALLLLL of the sudden, \\n\\nW...</td>\n",
       "      <td>NA</td>\n",
       "      <td>42</td>\n",
       "      <td>7</td>\n",
       "    </tr>\n",
       "    <tr>\n",
       "      <th>8</th>\n",
       "      <td>2020-10-15 01:04:06</td>\n",
       "      <td>1.316545e+18</td>\n",
       "      <td>2.355506e+07</td>\n",
       "      <td>Early voted for @JoeBiden today and can’t wait...</td>\n",
       "      <td>Houston, TX</td>\n",
       "      <td>42</td>\n",
       "      <td>8</td>\n",
       "    </tr>\n",
       "    <tr>\n",
       "      <th>9</th>\n",
       "      <td>2020-10-15 01:07:44</td>\n",
       "      <td>1.316546e+18</td>\n",
       "      <td>1.086358e+18</td>\n",
       "      <td>@kathygriffin #NewYorkPost #BurismaBribedBiden...</td>\n",
       "      <td>NA</td>\n",
       "      <td>42</td>\n",
       "      <td>9</td>\n",
       "    </tr>\n",
       "  </tbody>\n",
       "</table>\n",
       "</div>"
      ],
      "text/plain": [
       "           tweet_time       tweetId        UserId  \\\n",
       "0 2020-10-15 00:05:50  1.316531e+18  5.182709e+07   \n",
       "1 2020-10-15 00:05:50  1.316531e+18  7.615802e+17   \n",
       "2 2020-10-15 00:06:49  1.316531e+18  7.005492e+17   \n",
       "3 2020-10-15 00:06:49  1.316531e+18  3.354807e+08   \n",
       "4 2020-10-15 00:06:49  1.316531e+18  2.336564e+07   \n",
       "5 2020-10-15 00:34:39  1.316538e+18  1.245436e+18   \n",
       "6 2020-10-15 00:38:30  1.316539e+18  1.299111e+18   \n",
       "7 2020-10-15 00:56:58  1.316544e+18  1.723393e+09   \n",
       "8 2020-10-15 01:04:06  1.316545e+18  2.355506e+07   \n",
       "9 2020-10-15 01:07:44  1.316546e+18  1.086358e+18   \n",
       "\n",
       "                                               tweet     tweet_location  week  \\\n",
       "0  Vice President #Biden is 77 years young.\\nI am...  San Diego, CA USA    42   \n",
       "1  @JoeBiden #BidenHarris2020 #DonaldTrump #Hunte...      Fitchburg, WI    42   \n",
       "2  Kpop fans please unite and stream Biden’s Town...                 NA    42   \n",
       "3  #JoniErnst #KristiNoem #MitchMcConnell 4 Ds #M...                 NA    42   \n",
       "4  #Cube is a #trump tool!!!! How his legacy will...       Savannah, GA    42   \n",
       "5  @TrumpLadyFran Besides being election interfer...                 NA    42   \n",
       "6  Scientific journal 'Nature' endorses Biden #Biden  Boynton Beach, FL    42   \n",
       "7  Why are #Democrats ALLLLL of the sudden, \\n\\nW...                 NA    42   \n",
       "8  Early voted for @JoeBiden today and can’t wait...        Houston, TX    42   \n",
       "9  @kathygriffin #NewYorkPost #BurismaBribedBiden...                 NA    42   \n",
       "\n",
       "   Id  \n",
       "0   0  \n",
       "1   1  \n",
       "2   2  \n",
       "3   3  \n",
       "4   4  \n",
       "5   5  \n",
       "6   6  \n",
       "7   7  \n",
       "8   8  \n",
       "9   9  "
      ]
     },
     "execution_count": 185,
     "metadata": {},
     "output_type": "execute_result"
    }
   ],
   "source": [
    "df_tweet_details.limit(10).toPandas()"
   ]
  },
  {
   "cell_type": "code",
   "execution_count": 189,
   "metadata": {
    "editable": true
   },
   "outputs": [],
   "source": [
    "df_tweet_details.write.partitionBy(\"week\").parquet('Twitter_Data/output')"
   ]
  },
  {
   "cell_type": "code",
   "execution_count": null,
   "metadata": {
    "editable": true
   },
   "outputs": [],
   "source": []
  },
  {
   "cell_type": "code",
   "execution_count": null,
   "metadata": {
    "editable": true
   },
   "outputs": [],
   "source": []
  },
  {
   "cell_type": "code",
   "execution_count": null,
   "metadata": {
    "editable": true
   },
   "outputs": [],
   "source": []
  },
  {
   "cell_type": "code",
   "execution_count": null,
   "metadata": {
    "editable": true
   },
   "outputs": [],
   "source": []
  },
  {
   "cell_type": "code",
   "execution_count": null,
   "metadata": {
    "editable": true
   },
   "outputs": [],
   "source": []
  },
  {
   "cell_type": "code",
   "execution_count": null,
   "metadata": {
    "editable": true
   },
   "outputs": [],
   "source": []
  },
  {
   "cell_type": "code",
   "execution_count": null,
   "metadata": {
    "editable": true
   },
   "outputs": [],
   "source": []
  },
  {
   "cell_type": "code",
   "execution_count": null,
   "metadata": {
    "editable": true
   },
   "outputs": [],
   "source": []
  }
 ],
 "metadata": {
  "kernelspec": {
   "display_name": "Python 3",
   "language": "python",
   "name": "python3"
  },
  "language_info": {
   "codemirror_mode": {
    "name": "ipython",
    "version": 3
   },
   "file_extension": ".py",
   "mimetype": "text/x-python",
   "name": "python",
   "nbconvert_exporter": "python",
   "pygments_lexer": "ipython3",
   "version": "3.6.3"
  }
 },
 "nbformat": 4,
 "nbformat_minor": 4
}
